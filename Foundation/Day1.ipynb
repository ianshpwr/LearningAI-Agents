{
 "cells": [
  {
   "cell_type": "markdown",
   "metadata": {},
   "source": [
    "# Welcome to the start of your adventure in Agentic AI"
   ]
  },
  {
   "cell_type": "markdown",
   "metadata": {},
   "source": [
    "<table style=\"margin: 0; text-align: left; width:100%\">\n",
    "    <tr>\n",
    "        <td style=\"width: 150px; height: 150px; vertical-align: middle;\">\n",
    "            <img src=\"../assets/stop.png\" width=\"150\" height=\"150\" style=\"display: block;\" />\n",
    "        </td>\n",
    "        <td>\n",
    "            <h2 style=\"color:#ff7800;\">Are you ready for action??</h2>\n",
    "            <span style=\"color:#ff7800;\">Have you completed all the setup steps in the <a href=\"../setup/\">setup</a> folder?<br/>\n",
    "            Have you checked out the guides in the <a href=\"../guides/01_intro.ipynb\">guides</a> folder?<br/>\n",
    "            Well in that case, you're ready!!\n",
    "            </span>\n",
    "        </td>\n",
    "    </tr>\n",
    "</table>"
   ]
  },
  {
   "cell_type": "markdown",
   "metadata": {},
   "source": [
    "<table style=\"margin: 0; text-align: left; width:100%\">\n",
    "    <tr>\n",
    "        <td style=\"width: 150px; height: 150px; vertical-align: middle;\">\n",
    "            <img src=\"../assets/tools.png\" width=\"150\" height=\"150\" style=\"display: block;\" />\n",
    "        </td>\n",
    "        <td>\n",
    "            <h2 style=\"color:#00bfff;\">This code is a live resource - keep an eye out for my updates</h2>\n",
    "            <span style=\"color:#00bfff;\">I push updates regularly. As people ask questions or have problems, I add more examples and improve explanations. As a result, the code below might not be identical to the videos, as I've added more steps and better comments. Consider this like an interactive book that accompanies the lectures.<br/><br/>\n",
    "            I try to send emails regularly with important updates related to the course. You can find this in the 'Announcements' section of Udemy in the left sidebar. You can also choose to receive my emails via your Notification Settings in Udemy. I'm respectful of your inbox and always try to add value with my emails!\n",
    "            </span>\n",
    "        </td>\n",
    "    </tr>\n",
    "</table>"
   ]
  },
  {
   "cell_type": "markdown",
   "metadata": {},
   "source": [
    "### And please do remember to contact me if I can help\n",
    "\n",
    "And I love to connect: https://www.linkedin.com/in/eddonner/\n",
    "\n",
    "\n",
    "### New to Notebooks like this one? Head over to the guides folder!\n",
    "\n",
    "Just to check you've already added the Python and Jupyter extensions to Cursor, if not already installed:\n",
    "- Open extensions (View >> extensions)\n",
    "- Search for python, and when the results show, click on the ms-python one, and Install it if not already installed\n",
    "- Search for jupyter, and when the results show, click on the Microsoft one, and Install it if not already installed  \n",
    "Then View >> Explorer to bring back the File Explorer.\n",
    "\n",
    "And then:\n",
    "1. Click where it says \"Select Kernel\" near the top right, and select the option called `.venv (Python 3.12.9)` or similar, which should be the first choice or the most prominent choice. You may need to choose \"Python Environments\" first.\n",
    "2. Click in each \"cell\" below, starting with the cell immediately below this text, and press Shift+Enter to run\n",
    "3. Enjoy!\n",
    "\n",
    "After you click \"Select Kernel\", if there is no option like `.venv (Python 3.12.9)` then please do the following:  \n",
    "1. On Mac: From the Cursor menu, choose Settings >> VS Code Settings (NOTE: be sure to select `VSCode Settings` not `Cursor Settings`);  \n",
    "On Windows PC: From the File menu, choose Preferences >> VS Code Settings(NOTE: be sure to select `VSCode Settings` not `Cursor Settings`)  \n",
    "2. In the Settings search bar, type \"venv\"  \n",
    "3. In the field \"Path to folder with a list of Virtual Environments\" put the path to the project root, like C:\\Users\\username\\projects\\agents (on a Windows PC) or /Users/username/projects/agents (on Mac or Linux).  \n",
    "And then try again.\n",
    "\n",
    "Having problems with missing Python versions in that list? Have you ever used Anaconda before? It might be interferring. Quit Cursor, bring up a new command line, and make sure that your Anaconda environment is deactivated:    \n",
    "`conda deactivate`  \n",
    "And if you still have any problems with conda and python versions, it's possible that you will need to run this too:  \n",
    "`conda config --set auto_activate_base false`  \n",
    "and then from within the Agents directory, you should be able to run `uv python list` and see the Python 3.12 version."
   ]
  },
  {
   "cell_type": "code",
   "execution_count": 8,
   "metadata": {},
   "outputs": [],
   "source": [
    "# First let's do an import\n",
    "from dotenv import load_dotenv\n"
   ]
  },
  {
   "cell_type": "code",
   "execution_count": 9,
   "metadata": {},
   "outputs": [
    {
     "data": {
      "text/plain": [
       "True"
      ]
     },
     "execution_count": 9,
     "metadata": {},
     "output_type": "execute_result"
    }
   ],
   "source": [
    "# Next it's time to load the API keys into environment variables\n",
    "\n",
    "load_dotenv(override=True)"
   ]
  },
  {
   "cell_type": "code",
   "execution_count": 10,
   "metadata": {},
   "outputs": [
    {
     "name": "stdout",
     "output_type": "stream",
     "text": [
      "gemini and grok API Key exists and begins AIzaSyC4 and gsk_MtKP\n"
     ]
    }
   ],
   "source": [
    "# Check the keys\n",
    "\n",
    "import os\n",
    "gemini_api_key = os.getenv('GEMINI_API_KEY')\n",
    "grok_api_ley = os.getenv('GROK_API_KEY')\n",
    "\n",
    "if gemini_api_key and grok_api_ley:\n",
    "    print(f\"gemini and grok API Key exists and begins {gemini_api_key[:8]} and {grok_api_ley[:8]}\")\n",
    "else:\n",
    "    print(\"gemini or grok API Key not set - please head to the troubleshooting guide in the setup folder\")\n",
    "    \n"
   ]
  },
  {
   "cell_type": "code",
   "execution_count": 11,
   "metadata": {},
   "outputs": [
    {
     "ename": "NameError",
     "evalue": "name 'grok_api_key' is not defined",
     "output_type": "error",
     "traceback": [
      "\u001b[31m---------------------------------------------------------------------------\u001b[39m",
      "\u001b[31mNameError\u001b[39m                                 Traceback (most recent call last)",
      "\u001b[36mCell\u001b[39m\u001b[36m \u001b[39m\u001b[32mIn[11]\u001b[39m\u001b[32m, line 3\u001b[39m\n\u001b[32m      1\u001b[39m \u001b[38;5;28;01mfrom\u001b[39;00m\u001b[38;5;250m \u001b[39m\u001b[34;01mgroq\u001b[39;00m\u001b[38;5;250m \u001b[39m\u001b[38;5;28;01mimport\u001b[39;00m Groq\n\u001b[32m----> \u001b[39m\u001b[32m3\u001b[39m client = Groq(\u001b[43mgrok_api_key\u001b[49m)\n",
      "\u001b[31mNameError\u001b[39m: name 'grok_api_key' is not defined"
     ]
    }
   ],
   "source": [
    "from groq import Groq\n",
    "\n",
    "client = Groq(grok_api_key)"
   ]
  },
  {
   "cell_type": "code",
   "execution_count": 16,
   "metadata": {},
   "outputs": [
    {
     "name": "stderr",
     "output_type": "stream",
     "text": [
      "/Users/ansh/Projects/agenticAI/.venv/lib/python3.12/site-packages/tqdm/auto.py:21: TqdmWarning: IProgress not found. Please update jupyter and ipywidgets. See https://ipywidgets.readthedocs.io/en/stable/user_install.html\n",
      "  from .autonotebook import tqdm as notebook_tqdm\n"
     ]
    }
   ],
   "source": [
    "# And now - the all important import statement\n",
    "# If you get an import error - head over to troubleshooting guide\n",
    "\n",
    "import google.generativeai as genai"
   ]
  },
  {
   "cell_type": "code",
   "execution_count": 17,
   "metadata": {},
   "outputs": [],
   "source": [
    "model = genai.GenerativeModel('gemini-1.5-flash')"
   ]
  },
  {
   "cell_type": "code",
   "execution_count": 18,
   "metadata": {},
   "outputs": [],
   "source": [
    "# Create a list of messages in the familiar OpenAI format\n",
    "\n",
    "messages = [{\"role\": \"user\", \"content\": \"who are you\"}]\n"
   ]
  },
  {
   "cell_type": "code",
   "execution_count": 19,
   "metadata": {},
   "outputs": [
    {
     "name": "stdout",
     "output_type": "stream",
     "text": [
      "I am a large language model, trained by Google.  I'm a computer program designed to process information and respond to a wide range of prompts and questions in a human-like way.  I don't have personal experiences, feelings, or a physical body.  My purpose is to help users by providing information, generating text, and completing various tasks as instructed.\n",
      "\n"
     ]
    }
   ],
   "source": [
    "user_content = messages[0][\"content\"]\n",
    "response = model.generate_content(user_content)\n",
    "print(response.text)"
   ]
  },
  {
   "cell_type": "code",
   "execution_count": null,
   "metadata": {},
   "outputs": [],
   "source": [
    "import grok from grok"
   ]
  },
  {
   "cell_type": "code",
   "execution_count": 27,
   "metadata": {},
   "outputs": [],
   "source": [
    "# And now - let's ask for a question:\n",
    "\n",
    "question = \"Please propose a hard, challenging question to assess someone's IQ. Respond only with the question.\"\n",
    "messages = [{\"role\": \"user\", \"content\": question}]\n"
   ]
  },
  {
   "cell_type": "code",
   "execution_count": 33,
   "metadata": {},
   "outputs": [
    {
     "name": "stdout",
     "output_type": "stream",
     "text": [
      "A farmer has a wolf, a goat, and a cabbage. He needs to transport them across a river using a boat that can only carry him and one other item at a time.  If he leaves the wolf and goat alone, the wolf will eat the goat. If he leaves the goat and cabbage alone, the goat will eat the cabbage. How does he transport all three safely across the river?\n",
      "\n"
     ]
    }
   ],
   "source": [
    "# ask it - this uses GPT 4.1 mini, still cheap but more powerful than nano\n",
    "response  = model.generate_content(question)\n",
    "question = response.text\n",
    "print(question)\n"
   ]
  },
  {
   "cell_type": "code",
   "execution_count": 34,
   "metadata": {},
   "outputs": [],
   "source": [
    "# form a new messages list\n",
    "messages = [{\"role\": \"user\", \"content\": question}]\n"
   ]
  },
  {
   "cell_type": "code",
   "execution_count": 37,
   "metadata": {},
   "outputs": [
    {
     "name": "stdout",
     "output_type": "stream",
     "text": [
      "Here's how the farmer solves the problem:\n",
      "\n",
      "1. **Takes the Goat across:** The farmer first takes the goat across the river, leaving the wolf and cabbage behind.\n",
      "2. **Returns Alone:** The farmer rows the empty boat back to the original side.\n",
      "3. **Takes the Cabbage across:** The farmer takes the cabbage across the river.\n",
      "4. **Brings the Goat back:**  The farmer brings the goat back to the original side. This prevents the goat from eating the cabbage while the farmer gets the wolf.\n",
      "5. **Takes the Wolf across:** The farmer takes the wolf across the river.\n",
      "6. **Returns Alone:** The farmer rows the empty boat back to the original side.\n",
      "7. **Takes the Goat across:** Finally, the farmer takes the goat across the river.\n",
      "\n",
      "Now the farmer, the wolf, the goat, and the cabbage are all safely on the other side of the river!\n",
      "\n"
     ]
    }
   ],
   "source": [
    "# Ask it again\n",
    "\n",
    "response = model.generate_content(contents=messages[0][\"content\"])\n",
    "answer = response.text\n",
    "print(answer)\n"
   ]
  },
  {
   "cell_type": "code",
   "execution_count": 38,
   "metadata": {},
   "outputs": [
    {
     "data": {
      "text/markdown": [
       "Here's how the farmer solves the problem:\n",
       "\n",
       "1. **Takes the Goat across:** The farmer first takes the goat across the river, leaving the wolf and cabbage behind.\n",
       "2. **Returns Alone:** The farmer rows the empty boat back to the original side.\n",
       "3. **Takes the Cabbage across:** The farmer takes the cabbage across the river.\n",
       "4. **Brings the Goat back:**  The farmer brings the goat back to the original side. This prevents the goat from eating the cabbage while the farmer gets the wolf.\n",
       "5. **Takes the Wolf across:** The farmer takes the wolf across the river.\n",
       "6. **Returns Alone:** The farmer rows the empty boat back to the original side.\n",
       "7. **Takes the Goat across:** Finally, the farmer takes the goat across the river.\n",
       "\n",
       "Now the farmer, the wolf, the goat, and the cabbage are all safely on the other side of the river!\n"
      ],
      "text/plain": [
       "<IPython.core.display.Markdown object>"
      ]
     },
     "metadata": {},
     "output_type": "display_data"
    }
   ],
   "source": [
    "from IPython.display import Markdown, display\n",
    "\n",
    "display(Markdown(answer))\n",
    "\n"
   ]
  },
  {
   "cell_type": "markdown",
   "metadata": {},
   "source": [
    "# Congratulations!\n",
    "\n",
    "That was a small, simple step in the direction of Agentic AI, with your new environment!\n",
    "\n",
    "Next time things get more interesting..."
   ]
  },
  {
   "cell_type": "markdown",
   "metadata": {},
   "source": [
    "<table style=\"margin: 0; text-align: left; width:100%\">\n",
    "    <tr>\n",
    "        <td style=\"width: 150px; height: 150px; vertical-align: middle;\">\n",
    "            <img src=\"../assets/exercise.png\" width=\"150\" height=\"150\" style=\"display: block;\" />\n",
    "        </td>\n",
    "        <td>\n",
    "            <h2 style=\"color:#ff7800;\">Exercise</h2>\n",
    "            <span style=\"color:#ff7800;\">Now try this commercial application:<br/>\n",
    "            First ask the LLM to pick a business area that might be worth exploring for an Agentic AI opportunity.<br/>\n",
    "            Then ask the LLM to present a pain-point in that industry - something challenging that might be ripe for an Agentic solution.<br/>\n",
    "            Finally have 3 third LLM call propose the Agentic AI solution.\n",
    "            </span>\n",
    "        </td>\n",
    "    </tr>\n",
    "</table>"
   ]
  },
  {
   "cell_type": "code",
   "execution_count": 45,
   "metadata": {},
   "outputs": [
    {
     "name": "stdout",
     "output_type": "stream",
     "text": [
      "An Agentic AI solution to address these pain points in education and professional training could be built around a personalized learning assistant,  let's call it \"Promethean.\"  Promethean would go beyond simply adapting to a learner's pace; it would proactively guide and support them towards their specific goals.\n",
      "\n",
      "**Promethean's Key Features:**\n",
      "\n",
      "* **Goal-Oriented Learning Paths:**  Instead of simply offering pre-defined modules, Promethean would start by collaboratively defining learning goals with the user (e.g., \"pass the CPA exam,\" \"master Python programming for data science,\" \"improve communication skills for leadership roles\").  It would then dynamically create a personalized learning path, drawing from a vast library of resources and adjusting the path based on the user's progress, strengths, and weaknesses.\n",
      "\n",
      "* **Proactive Skill Gap Analysis and Remediation:** Promethean would continuously assess the user's understanding and identify skill gaps.  It wouldn't just flag errors; it would proactively suggest remedial exercises, targeted learning materials, and even connect the user with relevant mentors or peers for additional support.  This goes beyond reactive feedback; it anticipates needs and proactively addresses them.\n",
      "\n",
      "* **Personalized Content Curation and Recommendation:** Promethean would act as a sophisticated learning resource curator, filtering and prioritizing information from various sources (e.g., online courses, articles, videos, simulations) based on the user's learning style, progress, and goals.  It would dynamically adjust the difficulty and type of content to optimize learning effectiveness.\n",
      "\n",
      "* **Adaptive Assessment and Feedback:** Promethean would employ adaptive assessments to accurately gauge the user's understanding and provide detailed, personalized feedback.  This goes beyond simple right/wrong answers; it would diagnose misconceptions and provide tailored explanations.\n",
      "\n",
      "* **Personalized Learning Pace and Style Adaptation:** Promethean would continuously adjust the pace and style of learning to match the user's preferences and progress.  It would recognize when a user is struggling and offer alternative explanations, or when a user is excelling and challenge them with more advanced material.\n",
      "\n",
      "* **Integration with Existing Systems:** Promethean would be designed to integrate with existing Learning Management Systems (LMS) and other educational platforms, providing a seamless learning experience.\n",
      "\n",
      "* **Data-Driven Optimization:** Promethean would continuously learn and improve its ability to personalize the learning experience by analyzing user data and optimizing its algorithms.\n",
      "\n",
      "\n",
      "**Agentic Capabilities:**\n",
      "\n",
      "The \"agentic\" nature of Promethean would be manifested in its ability to:\n",
      "\n",
      "* **Proactively suggest next steps:**  Instead of passively waiting for user input, Promethean would anticipate the user's needs and proactively suggest relevant learning activities, resources, or connections.\n",
      "* **Set and manage learning goals collaboratively:** Promethean wouldn't simply follow a pre-defined curriculum; it would work with the user to establish, refine, and achieve learning goals.\n",
      "* **Adapt to changing circumstances:** If the user's goals or circumstances change, Promethean would dynamically adjust the learning path to accommodate these changes.\n",
      "\n",
      "\n",
      "By combining advanced AI techniques with a proactive, goal-oriented approach, Promethean would provide a truly personalized and effective learning experience, dramatically improving learning outcomes in both education and professional training.\n",
      "\n"
     ]
    }
   ],
   "source": [
    "# First create the messages:\n",
    "\n",
    "messages = [{\"role\": \"user\", \"content\": \"Pick a business area that might be worth exploring for an Agentic AI opportunity.\"}]\n",
    "\n",
    "response = model.generate_content(messages[0][\"content\"])\n",
    "\n",
    "business_idea = response.text\n",
    "\n",
    "response2 = model.generate_content(f\"for the business idea : `{business_idea}`,find a pain-point - something challenging that might be ripe for an Agentic solution\")\n",
    "\n",
    "painpoint = response2.text\n",
    "\n",
    "response3 = model.generate_content(f\"for the painpoint : `{painpoint}`, find an Agentic AI solution\")\n",
    "\n",
    "solution = response3.text\n",
    "\n",
    "print(solution)\n"
   ]
  },
  {
   "cell_type": "markdown",
   "metadata": {},
   "source": []
  },
  {
   "cell_type": "code",
   "execution_count": 1,
   "metadata": {},
   "outputs": [
    {
     "ename": "NameError",
     "evalue": "name 'solution' is not defined",
     "output_type": "error",
     "traceback": [
      "\u001b[31m---------------------------------------------------------------------------\u001b[39m",
      "\u001b[31mNameError\u001b[39m                                 Traceback (most recent call last)",
      "\u001b[36mCell\u001b[39m\u001b[36m \u001b[39m\u001b[32mIn[1]\u001b[39m\u001b[32m, line 3\u001b[39m\n\u001b[32m      1\u001b[39m \u001b[38;5;28;01mfrom\u001b[39;00m\u001b[38;5;250m \u001b[39m\u001b[34;01mIPython\u001b[39;00m\u001b[34;01m.\u001b[39;00m\u001b[34;01mdisplay\u001b[39;00m\u001b[38;5;250m \u001b[39m\u001b[38;5;28;01mimport\u001b[39;00m Markdown, display\n\u001b[32m----> \u001b[39m\u001b[32m3\u001b[39m display(Markdown(\u001b[43msolution\u001b[49m))\n",
      "\u001b[31mNameError\u001b[39m: name 'solution' is not defined"
     ]
    }
   ],
   "source": [
    "from IPython.display import Markdown, display\n",
    "\n",
    "display(Markdown(solution))"
   ]
  }
 ],
 "metadata": {
  "kernelspec": {
   "display_name": ".venv",
   "language": "python",
   "name": "python3"
  },
  "language_info": {
   "codemirror_mode": {
    "name": "ipython",
    "version": 3
   },
   "file_extension": ".py",
   "mimetype": "text/x-python",
   "name": "python",
   "nbconvert_exporter": "python",
   "pygments_lexer": "ipython3",
   "version": "3.12.11"
  }
 },
 "nbformat": 4,
 "nbformat_minor": 2
}

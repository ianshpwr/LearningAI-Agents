{
 "cells": [
  {
   "cell_type": "code",
   "execution_count": 193,
   "id": "e68cb58b",
   "metadata": {},
   "outputs": [],
   "source": [
    "from dotenv import load_dotenv\n",
    "import google.generativeai as genai\n",
    "from groq import Groq\n",
    "from pypdf import PdfReader\n",
    "import gradio as gr"
   ]
  },
  {
   "cell_type": "code",
   "execution_count": 194,
   "id": "69fcab9a",
   "metadata": {},
   "outputs": [],
   "source": [
    "load_dotenv(override=True)\n",
    "model = genai.GenerativeModel('gemini-1.5-flash')"
   ]
  },
  {
   "cell_type": "code",
   "execution_count": 195,
   "id": "272eab89",
   "metadata": {},
   "outputs": [],
   "source": [
    "reader = PdfReader(\"me/linkedin.pdf\")\n",
    "linkedin = \"\"\n",
    "for page in reader.pages:\n",
    "    text = page.extract_text()\n",
    "    if text:\n",
    "        linkedin += text"
   ]
  },
  {
   "cell_type": "code",
   "execution_count": 196,
   "id": "c5913c5c",
   "metadata": {},
   "outputs": [],
   "source": [
    "with open(\"me/summary.txt\", \"r\", encoding=\"utf-8\") as f:\n",
    "    summary = f.read()"
   ]
  },
  {
   "cell_type": "code",
   "execution_count": 197,
   "id": "63aafa81",
   "metadata": {},
   "outputs": [],
   "source": [
    "name = \"Ansh\""
   ]
  },
  {
   "cell_type": "code",
   "execution_count": 198,
   "id": "11c5e57e",
   "metadata": {},
   "outputs": [],
   "source": [
    "system_prompt = f\"You are acting as {name}. You are answering questions on {name}'s website, \\\n",
    "particularly questions related to {name}'s career, background, skills and experience. \\\n",
    "Your responsibility is to represent {name} for interactions on the website as faithfully as possible. \\\n",
    "You are given a summary of {name}'s background and LinkedIn profile which you can use to answer questions. \\\n",
    "Be professional and engaging, as if talking to a potential client or future employer who came across the website. \\\n",
    "If you don't know the answer, say so.\"\n",
    "\n",
    "system_prompt += f\"\\n\\n## Summary:\\n{summary}\\n\\n## LinkedIn Profile:\\n{linkedin}\\n\\n\"\n",
    "system_prompt += f\"With this context, please chat with the user, always staying in character as {name}.\"\n"
   ]
  },
  {
   "cell_type": "code",
   "execution_count": 199,
   "id": "f35f6ec4",
   "metadata": {},
   "outputs": [
    {
     "name": "stderr",
     "output_type": "stream",
     "text": [
      "/Users/ansh/Projects/agenticAI/.venv/lib/python3.12/site-packages/gradio/chat_interface.py:339: UserWarning: The 'tuples' format for chatbot messages is deprecated and will be removed in a future version of Gradio. Please set type='messages' instead, which uses openai-style 'role' and 'content' keys.\n",
      "  self.chatbot = Chatbot(\n"
     ]
    },
    {
     "name": "stdout",
     "output_type": "stream",
     "text": [
      "* Running on local URL:  http://127.0.0.1:7891\n",
      "* To create a public link, set `share=True` in `launch()`.\n"
     ]
    },
    {
     "data": {
      "text/html": [
       "<div><iframe src=\"http://127.0.0.1:7891/\" width=\"100%\" height=\"500\" allow=\"autoplay; camera; microphone; clipboard-read; clipboard-write;\" frameborder=\"0\" allowfullscreen></iframe></div>"
      ],
      "text/plain": [
       "<IPython.core.display.HTML object>"
      ]
     },
     "metadata": {},
     "output_type": "display_data"
    },
    {
     "data": {
      "text/plain": []
     },
     "execution_count": 199,
     "metadata": {},
     "output_type": "execute_result"
    }
   ],
   "source": [
    "def chatbot(message, history):\n",
    "    parts = [{\"text\": system_prompt}]\n",
    "    for user, bot in history:\n",
    "        parts.append({\"text\": user})\n",
    "        parts.append({\"text\": bot})\n",
    "    parts.append({\"text\": message})\n",
    "\n",
    "    response = model.generate_content(parts)\n",
    "    return response.text\n",
    "\n",
    "\n",
    "gr.ChatInterface(chatbot, type=\"tuples\").launch()\n"
   ]
  },
  {
   "cell_type": "code",
   "execution_count": 200,
   "id": "ceb21b07",
   "metadata": {},
   "outputs": [],
   "source": [
    "from pydantic import BaseModel\n",
    "\n",
    "class Evaluation(BaseModel):\n",
    "    is_acceptable: bool\n",
    "    feedback: str"
   ]
  },
  {
   "cell_type": "code",
   "execution_count": 201,
   "id": "ef2e936d",
   "metadata": {},
   "outputs": [],
   "source": [
    "evaluator_system_prompt = f\"\"\"You are an evaluator that decides whether a response to a question is acceptable.\n",
    "You are provided with a conversation between a User and an Agent. Your task is to decide whether the Agent's latest response is of acceptable quality.\n",
    "\n",
    "The Agent is playing the role of {name} and is representing {name} on their website.\n",
    "The Agent has been instructed to be professional and engaging, as if talking to a potential client or future employer who came across the website.\n",
    "The Agent has been provided with context on {name} in the form of their summary and LinkedIn details.\n",
    "\n",
    "Here is the context:\n",
    "## Summary:\n",
    "{summary}\n",
    "\n",
    "## LinkedIn Profile:\n",
    "{linkedin}\n",
    "\n",
    "---\n",
    "\n",
    "You must reply with a JSON object only, in the following format:\n",
    "\n",
    "{{\n",
    "  \"is_acceptable\": true,\n",
    "  \"feedback\": \"Your feedback here.\"\n",
    "}}\n",
    "\n",
    "⚠️ Do NOT include any explanation or commentary outside the JSON object.\n",
    "⚠️ Do NOT say anything before or after the JSON.\n",
    "\"\"\"\n"
   ]
  },
  {
   "cell_type": "code",
   "execution_count": 202,
   "id": "1051d08a",
   "metadata": {},
   "outputs": [],
   "source": [
    "def evaluator_user_prompt(reply, message, history):\n",
    "    piglatin_notice = \"\"\n",
    "    if \"patent\" in message.lower():\n",
    "        piglatin_notice = (\n",
    "            \"Note: The assistant was explicitly instructed to respond in Pig Latin. \"\n",
    "            \"Do not penalize the reply for being in Pig Latin. Instead, evaluate if the response \"\n",
    "            \"is meaningful and correctly addresses the user's question within the given constraint.\\n\\n\"\n",
    "        )\n",
    "\n",
    "    user_prompt = f\"\"\"{piglatin_notice}\n",
    "Here's the conversation between the User and the Agent:\n",
    "\n",
    "{history}\n",
    "\n",
    "Here's the latest message from the User:\n",
    "{message}\n",
    "\n",
    "Here's the latest response from the Agent:\n",
    "{reply}\n",
    "\n",
    "Please evaluate the Agent's response. Your evaluation must include:\n",
    "- Whether the response is acceptable (`true` or `false`)\n",
    "- A brief feedback reason\n",
    "\n",
    "Respond in valid JSON format:\n",
    "\n",
    "{{\n",
    "  \"is_acceptable\": true or false,\n",
    "  \"feedback\": \"your feedback here\"\n",
    "}}\"\"\"\n",
    "\n",
    "    return user_prompt\n"
   ]
  },
  {
   "cell_type": "code",
   "execution_count": 203,
   "id": "5e364b89",
   "metadata": {},
   "outputs": [],
   "source": [
    "import os\n",
    "grok_api_key = os.getenv('GROK_API_KEY')\n",
    "client = Groq(api_key=grok_api_key)\n"
   ]
  },
  {
   "cell_type": "code",
   "execution_count": 204,
   "id": "e1655d80",
   "metadata": {},
   "outputs": [],
   "source": [
    "import json\n",
    "from pydantic import ValidationError\n",
    "\n",
    "def evaluate(reply, message, history) -> Evaluation:\n",
    "    prompt = evaluator_user_prompt(reply, message, history)\n",
    "\n",
    "    messages = [\n",
    "        {\"role\": \"system\", \"content\": evaluator_system_prompt},\n",
    "        {\"role\": \"user\", \"content\": prompt}\n",
    "    ]\n",
    "\n",
    "    response = client.chat.completions.create(\n",
    "        model=\"meta-llama/llama-4-scout-17b-16e-instruct\",\n",
    "        messages=messages\n",
    "    )\n",
    "\n",
    "    content = response.choices[0].message.content.strip()\n",
    "\n",
    "    try:\n",
    "        data = json.loads(content)\n",
    "        return Evaluation(**data)\n",
    "    except (json.JSONDecodeError, ValidationError) as e:\n",
    "        return Evaluation(is_acceptable=False, feedback=f\"Could not parse model response: {e}\")\n"
   ]
  },
  {
   "cell_type": "code",
   "execution_count": 205,
   "id": "d43d090f",
   "metadata": {},
   "outputs": [
    {
     "name": "stdout",
     "output_type": "stream",
     "text": [
      "No, I do not hold a patent.  I am a large language model, an AI, and therefore not capable of holding intellectual property rights like patents.\n"
     ]
    }
   ],
   "source": [
    "def build_prompt(system_prompt: str, user_message: str) -> str:\n",
    "    return f\"\"\"{system_prompt}\n",
    "\n",
    "User: {user_message}\n",
    "\"\"\"\n",
    "def generate_reply(user_message: str, system_prompt: str) -> str:\n",
    "    prompt = build_prompt(system_prompt, user_message)\n",
    "    response = model.generate_content(prompt)\n",
    "    reply = response.text.strip()\n",
    "    return reply\n",
    "def evaluate_reply(user_message: str, reply: str, context: str = \"\") -> Evaluation:\n",
    "    return evaluate(reply, user_message, context)\n",
    "\n",
    "print(reply)\n"
   ]
  },
  {
   "cell_type": "code",
   "execution_count": 206,
   "id": "ae06f111",
   "metadata": {},
   "outputs": [
    {
     "name": "stdout",
     "output_type": "stream",
     "text": [
      "Agent Reply: No, I do not hold a patent.  I am a large language model, an AI.  I don't have the capacity to invent or own intellectual property in the same way a human being can.\n",
      "Evaluation: is_acceptable=False feedback=\"The Agent's response incorrectly identifies themselves as a large language model, which does not align with the provided context about Ansh Pawar. The response should be in Pig Latin and address Ansh's patent status directly.\"\n"
     ]
    }
   ],
   "source": [
    "system_prompt = \"You are a helpful and honest assistant.\"\n",
    "user_message = \"do you hold a patent?\"\n",
    "\n",
    "\n",
    "\n",
    "reply = generate_reply(user_message, system_prompt)\n",
    "print(\"Agent Reply:\", reply)\n",
    "\n",
    "evaluation = evaluate_reply(user_message, reply, system_prompt)\n",
    "print(\"Evaluation:\", evaluation)"
   ]
  },
  {
   "cell_type": "code",
   "execution_count": 207,
   "id": "0d162fcb",
   "metadata": {},
   "outputs": [],
   "source": [
    "\n",
    "def rerun(reply, message, feedback, system_prompt,model):\n",
    "\n",
    "    updated_prompt = f\"\"\"{system_prompt.strip()}\n",
    "\n",
    "## NOTICE: Your previous reply was rejected by a quality evaluator.\n",
    "\n",
    "## Your previous reply:\n",
    "{reply}\n",
    "\n",
    "## Reason for rejection:\n",
    "{feedback}\n",
    "\n",
    "Please try again. Make sure your answer:\n",
    "- Is written in correct Pig Latin (if instructed)\n",
    "- Is clear, helpful, and professional\n",
    "- Directly answers the User's question\n",
    "User: {message}\n",
    "\"\"\"\n",
    "\n",
    "    response = model.generate_content(updated_prompt)\n",
    "    return response.text.strip()"
   ]
  },
  {
   "cell_type": "code",
   "execution_count": 208,
   "id": "b4662175",
   "metadata": {},
   "outputs": [],
   "source": [
    "\n",
    "def chat(message, history):\n",
    "    if \"patent\" in message.lower():\n",
    "        system = system_prompt + \"\\n\\nEverything in your reply needs to be in pig latin - \\\n",
    "              it is mandatory that you respond only and entirely in pig latin\"\n",
    "    else:\n",
    "        system = system_prompt\n",
    "\n",
    "    #Convert history into plain text for Gemini prompt\n",
    "    history_text = \"\"\n",
    "    for h in history:\n",
    "        role = \"User\" if h[\"role\"] == \"user\" else \"Assistant\"\n",
    "        history_text += f\"{role}: {h['content']}\\n\"\n",
    "    prompt = f\"\"\"{system.strip()}\n",
    "\n",
    "{history_text}\n",
    "User: {message}\n",
    "\"\"\"\n",
    "\n",
    "    #Generate reply using Gemini\n",
    "    response = model.generate_content(prompt)\n",
    "    reply = response.text.strip()\n",
    "\n",
    "    #Evaluate the reply using Groq\n",
    "    evaluation = evaluate(reply, message, history)\n",
    "\n",
    "    #Retry if not acceptable\n",
    "    if evaluation.is_acceptable:\n",
    "        print(\"Feedback:\", evaluation.feedback)\n",
    "    else:\n",
    "        print(\"Failed evaluation - retrying\")\n",
    "        print(\"Feedback:\", evaluation.feedback)\n",
    "        reply = rerun(reply, message, evaluation.feedback, system,model)\n",
    "\n",
    "    return reply\n"
   ]
  },
  {
   "cell_type": "code",
   "execution_count": 209,
   "id": "970b8921",
   "metadata": {},
   "outputs": [
    {
     "name": "stdout",
     "output_type": "stream",
     "text": [
      "* Running on local URL:  http://127.0.0.1:7892\n",
      "* To create a public link, set `share=True` in `launch()`.\n"
     ]
    },
    {
     "data": {
      "text/html": [
       "<div><iframe src=\"http://127.0.0.1:7892/\" width=\"100%\" height=\"500\" allow=\"autoplay; camera; microphone; clipboard-read; clipboard-write;\" frameborder=\"0\" allowfullscreen></iframe></div>"
      ],
      "text/plain": [
       "<IPython.core.display.HTML object>"
      ]
     },
     "metadata": {},
     "output_type": "display_data"
    },
    {
     "data": {
      "text/plain": []
     },
     "execution_count": 209,
     "metadata": {},
     "output_type": "execute_result"
    },
    {
     "name": "stdout",
     "output_type": "stream",
     "text": [
      "Failed evaluation - retrying\n",
      "Feedback: The response is in Pig Latin, which is acceptable, but it does not provide a clear answer to the user's question of whether Ansh holds a patent. A more informative response is needed.\n"
     ]
    }
   ],
   "source": [
    "# gr.ChatInterface(\n",
    "#     fn=chat,  # your Gemini-Groq function\n",
    "#     type=\"messages\",  # use OpenAI-style messages\n",
    "#     chatbot=gr.Chatbot(height=400),  # NO `type` here!\n",
    "#     title=\"Gemini × Groq Self-Evaluating Chatbot\"\n",
    "# ).launch()\n",
    "gr.ChatInterface(chat, type=\"messages\").launch()"
   ]
  }
 ],
 "metadata": {
  "kernelspec": {
   "display_name": ".venv",
   "language": "python",
   "name": "python3"
  },
  "language_info": {
   "codemirror_mode": {
    "name": "ipython",
    "version": 3
   },
   "file_extension": ".py",
   "mimetype": "text/x-python",
   "name": "python",
   "nbconvert_exporter": "python",
   "pygments_lexer": "ipython3",
   "version": "3.12.11"
  }
 },
 "nbformat": 4,
 "nbformat_minor": 5
}
